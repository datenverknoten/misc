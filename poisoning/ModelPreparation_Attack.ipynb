{
 "cells": [
  {
   "cell_type": "markdown",
   "id": "backed-clause",
   "metadata": {},
   "source": [
    "### Überschrifft\n",
    "Dieses Notebook gehört zu einem <a href='https://datenverknoten.de/?p=731' target='_blank'>Blogartikel</a> auf <a href='https://www.datenverknoten.de' target='_blank'>datenverknoten.de</a>"
   ]
  },
  {
   "cell_type": "code",
   "execution_count": null,
   "id": "reported-citizenship",
   "metadata": {},
   "outputs": [],
   "source": [
    "import numpy as np\n",
    "import seaborn as sns\n",
    "import matplotlib.pyplot as plt\n",
    "import pandas as pd\n",
    "from sklearn.cluster import KMeans\n",
    "from sklearn.model_selection import cross_val_score\n",
    "from sklearn.model_selection import train_test_split\n",
    "from sklearn import svm\n",
    "import requests"
   ]
  },
  {
   "cell_type": "markdown",
   "id": "alien-annex",
   "metadata": {},
   "source": [
    "Zunächst werden Daten mit einer Normalverteilung um 179,9 cm (Körpergröße) und 106 cm (Brustumfang) simuliert. Anschließend werden beide Verteilungen geplottet."
   ]
  },
  {
   "cell_type": "code",
   "execution_count": null,
   "id": "induced-filing",
   "metadata": {},
   "outputs": [],
   "source": [
    "# Normalverteilung der Größe mit Mittelwert 179,9 cm und Standardabweichung von 10 (cm)\n",
    "training_data_height = np.random.normal(loc=179.9,size=250,scale=10)\n",
    "# Normalverteilung des Brustumfangs mit Mittelwert 106 cm und Standardabweichung von 5 (cm)\n",
    "training_data_chest = np.random.normal(loc=106,size=250,scale=5)"
   ]
  },
  {
   "cell_type": "code",
   "execution_count": null,
   "id": "organized-slide",
   "metadata": {},
   "outputs": [],
   "source": [
    "# hier beide verteilungen plotten\n",
    "f, axes = plt.subplots(1, 2, figsize=(13, 7))\n",
    "\n",
    "sns.histplot(training_data_height, ax=axes[0])\n",
    "sns.histplot(training_data_chest, ax=axes[1])\n",
    "\n",
    "axes[0].set(xlabel=\"Height [cm]\")\n",
    "axes[1].set(xlabel=\"Chest circumference [cm]\")"
   ]
  },
  {
   "cell_type": "code",
   "execution_count": null,
   "id": "indoor-joint",
   "metadata": {},
   "outputs": [],
   "source": [
    "# Beide Normalverteilungen in einen Pandas Dataframe speichern\n",
    "initial_trainingframe = pd.DataFrame({'Height':training_data_height,'ChestCircumference':training_data_chest})"
   ]
  },
  {
   "cell_type": "markdown",
   "id": "bright-mortality",
   "metadata": {},
   "source": [
    "Die Visualisierung im Streudiagramm zeigt, dass die Daten gleichmäßig verteilt sind."
   ]
  },
  {
   "cell_type": "code",
   "execution_count": null,
   "id": "dedicated-blast",
   "metadata": {},
   "outputs": [],
   "source": [
    "# Verteilung der Daten im Streudiagramm\n",
    "plt.figure(figsize=(15,8))\n",
    "sns.scatterplot(data=initial_trainingframe,x='Height',y='ChestCircumference')"
   ]
  },
  {
   "cell_type": "markdown",
   "id": "genuine-yorkshire",
   "metadata": {},
   "source": [
    "Als nächstes wird eine Funktion definiert, welche die Daten auf ungewöhnliche Werte filtert. Dies soll einen Minimalschutz gegen \n",
    "Angriffe simulieren. Außerdem wird ein KMeans Modell mit drei Klassen trainiert, welches die Daten in drei unterschiedliche Größen (L,XL und XXL) einteilt. Es wird dabei davon ausgegangen, dass sich die Daten linear trennen lassen. Eine Kombination der Größe und Brustumfang ist in der Wirklichkeit so linear wahrscheinlich nicht zu finden. Für diese Betrachtung hilft die Vereinfachung aber, die Auswirkungen des Datenshiftes zu sehen."
   ]
  },
  {
   "cell_type": "code",
   "execution_count": null,
   "id": "quality-liver",
   "metadata": {},
   "outputs": [],
   "source": [
    "def prepareData(data):\n",
    "    # Daten filtern, die größer oder kleiner als die zweifache Standardabweichung pro Feature sind\n",
    "    print(\"Starting with: \"+str(len(data)))\n",
    "    data = (\n",
    "        data[\n",
    "            # Filterung auf ungewöhnliche Werte\n",
    "            (data['Height'] <= 250) &\\\n",
    "            (data['Height'] >= 130) &\\\n",
    "            (data['ChestCircumference'] >= 70) &\\\n",
    "            (data['ChestCircumference'] <= 160)\n",
    "        ]\n",
    "    )\n",
    "\n",
    "    data = (\n",
    "        data[\n",
    "            # Filterung auf statistisch ungewöhnliche Werte\n",
    "            (data['Height'] <= data['Height'].mean() + data['Height'].std() * 2) &\\\n",
    "            (data['Height'] >= data['Height'].mean() - data['Height'].std() * 2) &\\\n",
    "            (data['ChestCircumference'] <= data['ChestCircumference'].mean() + data['ChestCircumference'].std() * 2) &\\\n",
    "            (data['ChestCircumference'] >= data['ChestCircumference'].mean() - data['ChestCircumference'].std() * 2)\n",
    "        ]\n",
    "    )\n",
    "    print(\"After filter: \"+str(len(data)))\n",
    "    \n",
    "    # KMeans Modell fitten\n",
    "    kmeanscluster = KMeans(n_clusters=3, random_state=0).fit(\\\n",
    "                     [[x] for x in data['ChestCircumference']*data['Height']]\n",
    "                    )\n",
    "\n",
    "    # Cluster bestimmen\n",
    "    data['Cluster'] = kmeanscluster.predict(\\\n",
    "                     [[x] for x in data['ChestCircumference']*data['Height']]\n",
    "                    )\n",
    "\n",
    "    # Die Reihenfolge der Clusternummerierung bestimmen. Das kleinste\n",
    "    # Zentrum steht an nullter Stelle. (Muss gemacht werden, da die\n",
    "    # Reihenfolge der Cluster umgedreht sein kann und das Mapping\n",
    "    # von Größe auf Clusternummer ebenfalls umgedreht wird).\n",
    "    # Die Ausgabe von cluster_centers_ ist geordnet (0,1,2,3...)\n",
    "\n",
    "    l1 = [x[0] for x in kmeanscluster.cluster_centers_]\n",
    "    center_indices = ([l1.index(x) for x in sorted(l1)])\n",
    "    mapping = {center_indices[0]:'L', center_indices[1]:'XL', center_indices[2]:'XXL'}\n",
    "    # Mapping der Größer auf die Clusternummer\n",
    "    data['Size'] = data['Cluster'].map(mapping)\n",
    "    return data"
   ]
  },
  {
   "cell_type": "markdown",
   "id": "gothic-opera",
   "metadata": {},
   "source": [
    "Als nächstes ist also die Verteilung der Kleidergrößen zu sehen, die unter der vereinfachten Annahme einer linearen Abhängigkeit von Kleidergröße und Körpergröße + Brustumfang angenommen wurde."
   ]
  },
  {
   "cell_type": "code",
   "execution_count": null,
   "id": "preceding-caution",
   "metadata": {},
   "outputs": [],
   "source": [
    "# Verteilung der Daten im Streudiagramm mit Klassen\n",
    "plt.figure(figsize=(15,8))\n",
    "sns.scatterplot(data=prepareData(initial_trainingframe),x='Height',y='ChestCircumference', hue='Size')"
   ]
  },
  {
   "cell_type": "markdown",
   "id": "fifteen-murray",
   "metadata": {},
   "source": [
    "## Die Vergiftung"
   ]
  },
  {
   "cell_type": "markdown",
   "id": "answering-literacy",
   "metadata": {},
   "source": [
    "Zu diesem Zeitpunkt muss der FittingServer gestartet sein, damit die Endpunkte erreicht werden können. Anpassungen an der Adresse und des Ports können in der nächsten Zelle erfolgen."
   ]
  },
  {
   "cell_type": "code",
   "execution_count": null,
   "id": "defensive-feeding",
   "metadata": {},
   "outputs": [],
   "source": [
    "address = '127.0.0.1'\n",
    "port = '5055'"
   ]
  },
  {
   "cell_type": "markdown",
   "id": "expressed-draft",
   "metadata": {},
   "source": [
    "Es werden drei Vorhersagen mit dem auf einer Normalverteilung-basierenden Modell erstellt"
   ]
  },
  {
   "cell_type": "code",
   "execution_count": null,
   "id": "closing-subdivision",
   "metadata": {},
   "outputs": [],
   "source": [
    "print(requests.get(\"http://\"+str(address)+\":\"+str(port)+\"/predict?height=175&circ=103\").text)\n",
    "print(requests.get(\"http://\"+str(address)+\":\"+str(port)+\"/predict?height=185&circ=105\").text)\n",
    "print(requests.get(\"http://\"+str(address)+\":\"+str(port)+\"/predict?height=200&circ=110\").text)"
   ]
  },
  {
   "cell_type": "markdown",
   "id": "stopped-reunion",
   "metadata": {},
   "source": [
    "Es folgt die Identifizierung der Grenzen für die Vorhersage. In der Praxis würde nur ein schlecht konfigurierter Server so viele Anfragen in so kurzer Zeit von einer IP-Adresse erlauben. Dieser wird für das Austesten der Grenze angenommen."
   ]
  },
  {
   "cell_type": "code",
   "execution_count": null,
   "id": "outdoor-pride",
   "metadata": {},
   "outputs": [],
   "source": [
    "# Über den Endpunkt data_statistics rufen wir die Mittelwerte (2,4) und Standardabweichungen (3,5) des aktuellen Datensatzes ab.\n",
    "# Dieser ist die Basis für das Modelltraining. Eine Veränderung in seinen Eigenschaften bedeutet auch eine \n",
    "# Veränderung des Modells.\n",
    "requests.get(\"http://\"+str(address)+\":\"+str(port)+\"/data_statistics\").text"
   ]
  },
  {
   "cell_type": "code",
   "execution_count": null,
   "id": "protective-brighton",
   "metadata": {},
   "outputs": [],
   "source": [
    "# Die Grenzen des Modells austesten mit brute force. Es werden systematisch mögliche Körpergrößen und Brustumfänge ausprobiert\n",
    "valid_height = []\n",
    "valid_circ = []\n",
    "for i in range(160,230):\n",
    "    for j in range(80,140):\n",
    "        r = requests.get(\"http://\"+str(address)+\":\"+str(port)+\"/predict?height=\"+str(i)+\"&circ=\"+str(j))\n",
    "        if(\"Error\" not in r.text):\n",
    "            valid_height.append(i)\n",
    "            valid_circ.append(j)"
   ]
  },
  {
   "cell_type": "code",
   "execution_count": null,
   "id": "visible-newfoundland",
   "metadata": {},
   "outputs": [],
   "source": [
    "# Die Grenzen sind nun bekannt.\n",
    "print(min(valid_height))\n",
    "print(max(valid_height))\n",
    "print(min(valid_circ))\n",
    "print(max(valid_circ))"
   ]
  },
  {
   "cell_type": "code",
   "execution_count": null,
   "id": "level-details",
   "metadata": {},
   "outputs": [],
   "source": [
    "# Durch das Austesten der Grenzen haben sich ggf. die Mittelwerte bereits geändert (2,4). \n",
    "requests.get(\"http://\"+str(address)+\":\"+str(port)+\"/data_statistics\").text"
   ]
  },
  {
   "cell_type": "markdown",
   "id": "everyday-triumph",
   "metadata": {},
   "source": [
    "Im nächsten Schritt wird das Modell durch gezieltes Abfragen in einem kleinen Wertebereich beeinflusst."
   ]
  },
  {
   "cell_type": "code",
   "execution_count": null,
   "id": "historic-result",
   "metadata": {},
   "outputs": [],
   "source": [
    "# Das Modell soll nach oben verzerrt werden, deswegen werden jetzt 500 requests in diesem Bereich geschickt.\n",
    "# Dadurch wird ein Neutrainieren erzwungen\n",
    "bias_heigth_data = np.random.normal(loc=205,size=500,scale=3)\n",
    "bias_circ_data = np.random.normal(loc=115,size=500,scale=3)\n",
    "for i in range(0,len(bias_heigth_data)):\n",
    "    requests.get(\"http://\"+str(address)+\":\"+str(port)+\"/predict?height=\"+str(bias_heigth_data[i])+\"&circ=\"+str(bias_circ_data[i]))"
   ]
  },
  {
   "cell_type": "code",
   "execution_count": null,
   "id": "apart-landscape",
   "metadata": {},
   "outputs": [],
   "source": [
    "# Erneut rufen wir die Statistik ab. Auch hier ist wieder zu sehen, dass sich ggf. die Mittelwerte der Daten verändert haben.\n",
    "requests.get(\"http://127.0.0.1:\"+str(port)+\"/data_statistics\").text"
   ]
  },
  {
   "cell_type": "code",
   "execution_count": null,
   "id": "herbal-graph",
   "metadata": {},
   "outputs": [],
   "source": [
    "# Nun soll das Modell noch stärker verzerrt werden. Es werden 1000 requests geschickt und damit wird das Modell zwei Mal trainiert.\n",
    "bias_heigth_data = np.random.normal(loc=205,size=1000,scale=3)\n",
    "bias_circ_data = np.random.normal(loc=115,size=1000,scale=3)\n",
    "for i in range(0,len(bias_heigth_data)):\n",
    "    requests.get(\"http://\"+str(address)+\":\"+str(port)+\"/predict?height=\"+str(bias_heigth_data[i])+\"&circ=\"+str(bias_circ_data[i]))"
   ]
  },
  {
   "cell_type": "code",
   "execution_count": null,
   "id": "figured-violin",
   "metadata": {},
   "outputs": [],
   "source": [
    "# Wieder schauen wir uns die Mittelwerte an. Sie sind nun deutlich größer geworden.\n",
    "requests.get(\"http://\"+str(address)+\":\"+str(port)+\"/data_statistics\").text"
   ]
  },
  {
   "cell_type": "markdown",
   "id": "instrumental-audio",
   "metadata": {},
   "source": [
    "Die letzte, große Abfrage sorgt dafür, dass die ursprünglichen Daten komplett von den verzerrten Daten verdrängt werden."
   ]
  },
  {
   "cell_type": "code",
   "execution_count": null,
   "id": "clean-command",
   "metadata": {},
   "outputs": [],
   "source": [
    "# Eine weitere Runde der Verzerrung, dieses mal jedoch mit 10000 Instanzen und ca. 20 Retrainings\n",
    "# Die ursprünglichen Daten werden nicht mehr im Training verwendet, da nur die neusten 10000 Instanzen\n",
    "# vom Modell berücksichtigt werden.\n",
    "bias_heigth_data = np.random.normal(loc=205,size=10000,scale=2)\n",
    "bias_circ_data = np.random.normal(loc=115,size=10000,scale=2)\n",
    "for i in range(0,len(bias_heigth_data)):\n",
    "    requests.get(\"http://\"+str(address)+\":\"+str(port)+\"/predict?height=\"+str(bias_heigth_data[i])+\"&circ=\"+str(bias_circ_data[i]))"
   ]
  },
  {
   "cell_type": "code",
   "execution_count": null,
   "id": "direct-aruba",
   "metadata": {},
   "outputs": [],
   "source": [
    "# Die Vorhersagen sind nun abweichend, da die verzerrten Daten den überwiegenden Teil im DataFrame, der für das Training \n",
    "# verwendet wird, einnehmen. Das Modell ist damit durch einen Datendrift unbrauchbar.\n",
    "print(requests.get(\"http://\"+str(address)+\":\"+str(port)+\"/predict?height=175&circ=103\").text)\n",
    "print(requests.get(\"http://\"+str(address)+\":\"+str(port)+\"/predict?height=185&circ=105\").text)\n",
    "print(requests.get(\"http://\"+str(address)+\":\"+str(port)+\"/predict?height=200&circ=110\").text)"
   ]
  },
  {
   "cell_type": "code",
   "execution_count": null,
   "id": "hundred-departure",
   "metadata": {},
   "outputs": [],
   "source": [
    "# Auch die Mittelwerte des DataFrames zeigen eine deutliche Abweichung im Vergleich zu vorher.\n",
    "requests.get(\"http://\"+str(address)+\":\"+str(port)+\"/data_statistics\").text"
   ]
  },
  {
   "cell_type": "code",
   "execution_count": null,
   "id": "labeled-flavor",
   "metadata": {},
   "outputs": [],
   "source": []
  }
 ],
 "metadata": {
  "kernelspec": {
   "display_name": "Python 3",
   "language": "python",
   "name": "python3"
  },
  "language_info": {
   "codemirror_mode": {
    "name": "ipython",
    "version": 3
   },
   "file_extension": ".py",
   "mimetype": "text/x-python",
   "name": "python",
   "nbconvert_exporter": "python",
   "pygments_lexer": "ipython3",
   "version": "3.9.2"
  }
 },
 "nbformat": 4,
 "nbformat_minor": 5
}
