{
 "cells": [
  {
   "cell_type": "code",
   "execution_count": 44,
   "id": "acknowledged-separation",
   "metadata": {},
   "outputs": [],
   "source": [
    "import pandas as pd\n",
    "import nltk\n",
    "from gensim.models import Word2Vec\n",
    "import whois"
   ]
  },
  {
   "cell_type": "markdown",
   "id": "tracked-activation",
   "metadata": {},
   "source": [
    "## Alternative Domains finden mit Word2Vec (und eine Möglichkeit, ein kleines Taschengeld nebenbei zu verdienen)\n",
    "Dieses Notebook ist Teil von <a href='https://datenverknoten.de/?p=296' target='_blank'>einem Artikel</a> auf www.datenverknoten.de.<br>\n",
    "Der Korpus ist bereitgestellt von der Abteilung Automatische Sprachverarbeitung der Universität Leipzig. Er unterliegt einer CC BY-NC Lizenz, darf also <b>nicht kommerziell</b> verwendet werden. Hier geht es zur <a href='https://wortschatz.uni-leipzig.de/en/download/German' target='blank_'>Downloadseite</a>. Quelle: D. Goldhahn, T. Eckart & U. Quasthoff: Building Large Monolingual Dictionaries at the Leipzig Corpora Collection: From 100 to 200 Languages.\n",
    "In: Proceedings of the 8th International Language Resources and Evaluation (LREC'12), 2012 "
   ]
  },
  {
   "cell_type": "markdown",
   "id": "equivalent-buffalo",
   "metadata": {},
   "source": [
    "## GitHub\n",
    "Der komplette Code samt trainiertem Modell (ohne Rohdaten, die aber mit Downloadlink) kann aus meinem <a href='https://github.com/datenverknoten/misc.git' target='blank_'>Repository im Verzeichnis misc_1 geklont werden</a>."
   ]
  },
  {
   "cell_type": "code",
   "execution_count": 45,
   "id": "global-samba",
   "metadata": {},
   "outputs": [],
   "source": [
    "# Da ich den Korpus aus urheberrechtlichen Gründen nicht in meinem Repository bereitstellen möchte, \n",
    "# muss er selber runtergeladen werden. Es ist der Web-wrt-10M Korpus aus 2019.\n",
    "# Wenn er im Data-Ordner vorhanden ist, wird er eingelesen.\n",
    "data = pd.read_csv('Data/deu-de_web-wrt_2019_10M-sentences.txt',sep='\\t',header=None).drop(columns=[2])\n",
    "\n",
    "# Die Spalten erhalten einen Namen\n",
    "data.columns = ['index','Sentence']"
   ]
  },
  {
   "cell_type": "code",
   "execution_count": 46,
   "id": "blank-restoration",
   "metadata": {},
   "outputs": [
    {
     "data": {
      "text/html": [
       "<div>\n",
       "<style scoped>\n",
       "    .dataframe tbody tr th:only-of-type {\n",
       "        vertical-align: middle;\n",
       "    }\n",
       "\n",
       "    .dataframe tbody tr th {\n",
       "        vertical-align: top;\n",
       "    }\n",
       "\n",
       "    .dataframe thead th {\n",
       "        text-align: right;\n",
       "    }\n",
       "</style>\n",
       "<table border=\"1\" class=\"dataframe\">\n",
       "  <thead>\n",
       "    <tr style=\"text-align: right;\">\n",
       "      <th></th>\n",
       "      <th>index</th>\n",
       "      <th>Sentence</th>\n",
       "    </tr>\n",
       "  </thead>\n",
       "  <tbody>\n",
       "    <tr>\n",
       "      <th>0</th>\n",
       "      <td>1</td>\n",
       "      <td>Aber allein diese drei Stichpunkte machen doch...</td>\n",
       "    </tr>\n",
       "    <tr>\n",
       "      <th>1</th>\n",
       "      <td>2</td>\n",
       "      <td>Aber auch dabei setzen wir die Hoffnung wieder...</td>\n",
       "    </tr>\n",
       "    <tr>\n",
       "      <th>2</th>\n",
       "      <td>3</td>\n",
       "      <td>Aber auch das – will ich hinzufügen – hat ja e...</td>\n",
       "    </tr>\n",
       "  </tbody>\n",
       "</table>\n",
       "</div>"
      ],
      "text/plain": [
       "   index                                           Sentence\n",
       "0      1  Aber allein diese drei Stichpunkte machen doch...\n",
       "1      2  Aber auch dabei setzen wir die Hoffnung wieder...\n",
       "2      3  Aber auch das – will ich hinzufügen – hat ja e..."
      ]
     },
     "execution_count": 46,
     "metadata": {},
     "output_type": "execute_result"
    }
   ],
   "source": [
    "# So sieht der Korpus (die ersten drei Einträge aus)\n",
    "data.head(3)"
   ]
  },
  {
   "cell_type": "code",
   "execution_count": null,
   "id": "thirty-karaoke",
   "metadata": {},
   "outputs": [],
   "source": [
    "# Es werden ausschließlich Buchstaben und Leerzeichen behalten. Alle anderen Zeichen fliegen raus.\n",
    "data['Sentence'] = data['Sentence'].str.replace('[^a-zA-ZäÄüÜöÖß ]', '', regex=True)\n",
    "# Alle Sätze werden in lowercase umgewandelt.\n",
    "data['Sentence'] = data['Sentence'].str.lower()"
   ]
  },
  {
   "cell_type": "code",
   "execution_count": null,
   "id": "insured-removal",
   "metadata": {},
   "outputs": [],
   "source": [
    "# Die Sätze werden tokenized. So wird eine Liste von Worten erhalten. Sie werden als neue Spalte in\n",
    "# den DataFrame gespeichert.\n",
    "data['Tokenized_Sentence'] = data.apply(lambda row: nltk.word_tokenize(row['Sentence']), axis=1)"
   ]
  },
  {
   "cell_type": "code",
   "execution_count": null,
   "id": "allied-strategy",
   "metadata": {},
   "outputs": [],
   "source": [
    "# Hier wird die Spalte mit den tokenized Sätzen in eine Liste extrahiert. Es ist nun eine nested Liste.\n",
    "sentences = list(data['Tokenized_Sentence'])"
   ]
  },
  {
   "cell_type": "code",
   "execution_count": null,
   "id": "better-cathedral",
   "metadata": {},
   "outputs": [],
   "source": [
    "# Das Word2Vec Model wird trainiert. Dieser Schritt kann, abhängig von der Leistung des verwendeten Rechners,\n",
    "# mehrere Stunden dauern.\n",
    "model = Word2Vec(sentences, min_count=1)"
   ]
  },
  {
   "cell_type": "code",
   "execution_count": 51,
   "id": "green-fancy",
   "metadata": {},
   "outputs": [
    {
     "data": {
      "text/plain": [
       "[('rechtsanwalt', 0.8442790508270264),\n",
       " ('steuerberater', 0.7859551906585693),\n",
       " ('ombudsmann', 0.7800474762916565),\n",
       " ('fachanwalt', 0.7769657969474792),\n",
       " ('versicherungsmakler', 0.765956461429596),\n",
       " ('rechtsbeistand', 0.7305604815483093),\n",
       " ('strafverteidiger', 0.712742805480957),\n",
       " ('staatsanwalt', 0.7082164287567139),\n",
       " ('notar', 0.6978639960289001),\n",
       " ('makler', 0.6866521835327148)]"
      ]
     },
     "execution_count": 51,
     "metadata": {},
     "output_type": "execute_result"
    }
   ],
   "source": [
    "# Beispielhaft werden alle ähnlichen Worte zu 'Anwalt' ausgegeben. Die gefundenen \n",
    "# Worte stehen also in einem ähnlichen Zusammenhang in den Sätzen, wie eben das Wort 'Anwalt'.\n",
    "# Da das Modell nur mit lowercase Worten trainiert wurde, muss das eingegebene Wort auch in lowercase sein.\n",
    "model.wv.most_similar('anwalt')"
   ]
  },
  {
   "cell_type": "code",
   "execution_count": 53,
   "id": "historic-component",
   "metadata": {},
   "outputs": [
    {
     "name": "stdout",
     "output_type": "stream",
     "text": [
      "Keyerror\n"
     ]
    }
   ],
   "source": [
    "# Für Worte, die nicht bei der Modellerstellung genutzt wurden, kann auch kein ähnliches Wort\n",
    "# gefunden werden. In diesem Fall wird ein KeyError ausgelöst. \n",
    "try:\n",
    "    model.wv.most_similar('sdfsdf')\n",
    "except KeyError as k:\n",
    "    print(\"Keyerror\")"
   ]
  },
  {
   "cell_type": "code",
   "execution_count": null,
   "id": "unusual-supplement",
   "metadata": {},
   "outputs": [],
   "source": [
    "# Das Modell wird exportiert, da es im Webservice genutzt wird.\n",
    "model.save('web_wrt.model')"
   ]
  },
  {
   "cell_type": "code",
   "execution_count": 10,
   "id": "hawaiian-victorian",
   "metadata": {},
   "outputs": [],
   "source": [
    "# Hier soll beispielhaft der Ablauf gezeigt werden. Beim Besuch des Webservices muss ein Thema (fixed_word)\n",
    "# und ein Name eingegeben werden, damit eine Kombination www.anwalt-schmidt.de entsteht.\n",
    "fixed_word = 'Schmidt'\n",
    "topic = 'Anwalt'"
   ]
  },
  {
   "cell_type": "code",
   "execution_count": 11,
   "id": "union-hygiene",
   "metadata": {},
   "outputs": [],
   "source": [
    "# Die ähnlichen Worte werden wieder aus dem Modell abgerufen.\n",
    "results = model.wv.most_similar(topic.lower())"
   ]
  },
  {
   "cell_type": "code",
   "execution_count": 12,
   "id": "amber-duplicate",
   "metadata": {},
   "outputs": [],
   "source": [
    "# Es entsteht eine Liste von Tupeln, aus denen nur das Wort extrahiert wird.\n",
    "suggested_words = [x[0] for x in results]"
   ]
  },
  {
   "cell_type": "code",
   "execution_count": 40,
   "id": "overhead-pencil",
   "metadata": {},
   "outputs": [],
   "source": [
    "# In dieser Schleife werden Domains erstellt. \n",
    "domains = []\n",
    "for word in suggested_words:\n",
    "    domains.append(\"www.\"+str(word)+\"-\"+str(fixed_word.lower())+\".de\")\n",
    "    domains.append(\"www.\"+str(fixed_word.lower())+\"-\"+str(word)+\".de\")"
   ]
  },
  {
   "cell_type": "code",
   "execution_count": 41,
   "id": "fourth-theology",
   "metadata": {},
   "outputs": [],
   "source": [
    "# Mit whois wird abgerufen, ob die Seite registriert oder frei ist.\n",
    "status_list = []\n",
    "for dom in domains:\n",
    "    try:\n",
    "        domain = whois.whois(dom)\n",
    "        status_list.append('Vergeben')\n",
    "    except whois.parser.PywhoisError as pe:\n",
    "        status_list.append('Frei')"
   ]
  },
  {
   "cell_type": "code",
   "execution_count": 42,
   "id": "innovative-saturn",
   "metadata": {},
   "outputs": [
    {
     "data": {
      "text/plain": [
       "['Vergeben',\n",
       " 'Vergeben',\n",
       " 'Vergeben',\n",
       " 'Vergeben',\n",
       " 'Frei',\n",
       " 'Frei',\n",
       " 'Vergeben',\n",
       " 'Vergeben',\n",
       " 'Vergeben',\n",
       " 'Vergeben',\n",
       " 'Frei',\n",
       " 'Frei',\n",
       " 'Vergeben',\n",
       " 'Frei',\n",
       " 'Frei',\n",
       " 'Frei',\n",
       " 'Vergeben',\n",
       " 'Frei',\n",
       " 'Vergeben',\n",
       " 'Vergeben']"
      ]
     },
     "execution_count": 42,
     "metadata": {},
     "output_type": "execute_result"
    }
   ],
   "source": [
    "# So sieht dann die Statusliste aus\n",
    "status_list"
   ]
  },
  {
   "cell_type": "code",
   "execution_count": 43,
   "id": "pharmaceutical-newark",
   "metadata": {},
   "outputs": [
    {
     "data": {
      "text/plain": [
       "['www.rechtsanwalt-schmidt.de',\n",
       " 'www.schmidt-rechtsanwalt.de',\n",
       " 'www.steuerberater-schmidt.de',\n",
       " 'www.schmidt-steuerberater.de',\n",
       " 'www.ombudsmann-schmidt.de',\n",
       " 'www.schmidt-ombudsmann.de',\n",
       " 'www.fachanwalt-schmidt.de',\n",
       " 'www.schmidt-fachanwalt.de',\n",
       " 'www.versicherungsmakler-schmidt.de',\n",
       " 'www.schmidt-versicherungsmakler.de',\n",
       " 'www.rechtsbeistand-schmidt.de',\n",
       " 'www.schmidt-rechtsbeistand.de',\n",
       " 'www.strafverteidiger-schmidt.de',\n",
       " 'www.schmidt-strafverteidiger.de',\n",
       " 'www.staatsanwalt-schmidt.de',\n",
       " 'www.schmidt-staatsanwalt.de',\n",
       " 'www.notar-schmidt.de',\n",
       " 'www.schmidt-notar.de',\n",
       " 'www.makler-schmidt.de',\n",
       " 'www.schmidt-makler.de']"
      ]
     },
     "execution_count": 43,
     "metadata": {},
     "output_type": "execute_result"
    }
   ],
   "source": [
    "# Und so die Domains\n",
    "domains"
   ]
  }
 ],
 "metadata": {
  "kernelspec": {
   "display_name": "Python 3",
   "language": "python",
   "name": "python3"
  },
  "language_info": {
   "codemirror_mode": {
    "name": "ipython",
    "version": 3
   },
   "file_extension": ".py",
   "mimetype": "text/x-python",
   "name": "python",
   "nbconvert_exporter": "python",
   "pygments_lexer": "ipython3",
   "version": "3.9.2"
  }
 },
 "nbformat": 4,
 "nbformat_minor": 5
}
